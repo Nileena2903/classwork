{
 "cells": [
  {
   "cell_type": "code",
   "execution_count": 1,
   "metadata": {},
   "outputs": [
    {
     "name": "stdout",
     "output_type": "stream",
     "text": [
      "\n",
      " enter your name :NILEENA\n",
      "\n",
      " enter your lover name :JYOTHIS\n",
      "\n",
      "enter your best friend name :FEMI\n",
      "\n",
      "my name is NILEENA\n",
      "\n",
      "my lover is JYOTHIS\n",
      "\n",
      "my bestie is FEMI\n"
     ]
    }
   ],
   "source": [
    "class myname:\n",
    "    def __init__(self,m):\n",
    "        self.me=m\n",
    "    def function(self):\n",
    "        print(\"\\nmy name is\",self.me)\n",
    "class fname(myname):\n",
    "    def __init__(self,m,f):\n",
    "        self.frnd=f\n",
    "        myname.__init__(self,m)\n",
    "    def function(self):\n",
    "        print(\"\\nmy lover is\",self.frnd)\n",
    "class bname(fname):\n",
    "    def __init__(self,m,f,b):\n",
    "        self.best=b\n",
    "        fname.__init__(self,m,f)\n",
    "    def function(self):\n",
    "        myname.function(self)\n",
    "        fname.function(self)\n",
    "        print(\"\\nmy bestie is\",self.best)       \n",
    "c=input(\"\\n enter your name :\")\n",
    "d=input(\"\\n enter your lover name :\")\n",
    "e=input(\"\\nenter your best friend name :\")\n",
    "x=bname(c,d,e)\n",
    "x.function()\n"
   ]
  },
  {
   "cell_type": "code",
   "execution_count": null,
   "metadata": {
    "collapsed": true
   },
   "outputs": [],
   "source": []
  },
  {
   "cell_type": "code",
   "execution_count": null,
   "metadata": {
    "collapsed": true
   },
   "outputs": [],
   "source": []
  },
  {
   "cell_type": "code",
   "execution_count": null,
   "metadata": {
    "collapsed": true
   },
   "outputs": [],
   "source": []
  }
 ],
 "metadata": {
  "kernelspec": {
   "display_name": "Python 3",
   "language": "python",
   "name": "python3"
  },
  "language_info": {
   "codemirror_mode": {
    "name": "ipython",
    "version": 3
   },
   "file_extension": ".py",
   "mimetype": "text/x-python",
   "name": "python",
   "nbconvert_exporter": "python",
   "pygments_lexer": "ipython3",
   "version": "3.6.3"
  }
 },
 "nbformat": 4,
 "nbformat_minor": 2
}
