{
 "cells": [
  {
   "cell_type": "code",
   "execution_count": null,
   "metadata": {},
   "outputs": [
    {
     "name": "stdout",
     "output_type": "stream",
     "text": [
      "\n",
      "Enter name :nileena\n",
      "\n",
      " Enter age :24\n",
      "\n",
      " Enter salary :20000\n",
      "\n",
      "1.emp_details\n",
      "2.new_salary\n",
      "3.exit\n",
      "enter your option :1\n",
      "\n",
      "Name : nileena\n",
      "\n",
      "Age : 24\n",
      "\n",
      "Salary : 20000\n",
      "\n",
      "1.emp_details\n",
      "2.new_salary\n",
      "3.exit\n",
      "enter your option :2\n",
      "Enter your experience :5\n",
      "\n",
      "salary incremented  25000\n",
      "\n",
      "1.emp_details\n",
      "2.new_salary\n",
      "3.exit\n"
     ]
    }
   ],
   "source": [
    "class employee:\n",
    "    def __init__(self,emp_name,emp_age,emp_salary):\n",
    "        self.e_name=emp_name\n",
    "        self.e_age=emp_age\n",
    "        self.e_sal=emp_salary\n",
    "    def emp_info(self):\n",
    "        print(\"\\nName :\",self.e_name)\n",
    "        print(\"\\nAge :\",self.e_age)\n",
    "        print(\"\\nSalary :\",self.e_sal)\n",
    "    def emp_new(self):\n",
    "        self.e_exp=int(input(\"Enter your experience :\"))\n",
    "        self.e_pf=self.e_exp*1000\n",
    "        self.e_sal+=self.e_pf\n",
    "        print(\"\\nsalary incremented \",self.e_sal)      \n",
    "name=input(\"\\nEnter name :\")\n",
    "age=input(\"\\n Enter age :\")\n",
    "sal=int(input(\"\\n Enter salary :\"))\n",
    "em=employee(name,age,sal)\n",
    "while(1):\n",
    "    print(\"\\n1.emp_details\\n2.new_salary\\n3.exit\")\n",
    "    ch=int(input(\"enter your option :\"))\n",
    "    if(ch==1):\n",
    "        em.emp_info()\n",
    "    if(ch==2):\n",
    "        em.emp_new()\n",
    "    if(ch==3):\n",
    "        print(\"\\nexiting...\")\n"
   ]
  },
  {
   "cell_type": "markdown",
   "metadata": {},
   "source": [
    "## "
   ]
  },
  {
   "cell_type": "code",
   "execution_count": null,
   "metadata": {
    "collapsed": true
   },
   "outputs": [],
   "source": []
  }
 ],
 "metadata": {
  "kernelspec": {
   "display_name": "Python 3",
   "language": "python",
   "name": "python3"
  },
  "language_info": {
   "codemirror_mode": {
    "name": "ipython",
    "version": 3
   },
   "file_extension": ".py",
   "mimetype": "text/x-python",
   "name": "python",
   "nbconvert_exporter": "python",
   "pygments_lexer": "ipython3",
   "version": "3.6.3"
  }
 },
 "nbformat": 4,
 "nbformat_minor": 2
}
