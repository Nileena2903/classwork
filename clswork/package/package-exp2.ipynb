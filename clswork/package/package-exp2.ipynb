{
 "cells": [
  {
   "cell_type": "code",
   "execution_count": null,
   "metadata": {},
   "outputs": [
    {
     "name": "stdout",
     "output_type": "stream",
     "text": [
      "\n",
      "1.sum\n",
      "2.product\n",
      "3.exit\n",
      "\n",
      "enter your choice :1\n",
      "\n",
      "SUM OF TWO NUMBERS\n",
      "\n",
      "enter first number=5\n",
      "enter second number=3\n",
      "sum = 8\n",
      "\n",
      "1.sum\n",
      "2.product\n",
      "3.exit\n",
      "\n",
      "enter your choice :2\n",
      "\n",
      "PRODUCT OF TWO NUMBERS\n",
      "\n",
      "enter first number=5\n",
      "enter second number=3\n",
      "product= 15\n",
      "\n",
      "1.sum\n",
      "2.product\n",
      "3.exit\n",
      "\n",
      "enter your choice :3\n",
      "\n",
      "exiting...\n",
      "\n",
      "\n",
      "1.sum\n",
      "2.product\n",
      "3.exit\n"
     ]
    }
   ],
   "source": [
    "from sum1 import s\n",
    "from sum1.product import pr\n",
    "while(1):\n",
    "    print(\"\\n1.sum\\n2.product\\n3.exit\")\n",
    "    ch=int(input(\"\\nenter your choice :\"))\n",
    "    if(ch==1):\n",
    "        print(\"\\nSUM OF TWO NUMBERS\")\n",
    "        a=int(input(\"\\nenter first number=\"))\n",
    "        b= int(input(\"enter second number=\"))\n",
    "        s.summ(a,b)\n",
    "    if(ch==2):\n",
    "        print(\"\\nPRODUCT OF TWO NUMBERS\")\n",
    "        x=int(input(\"\\nenter first number=\"))\n",
    "        y= int(input(\"enter second number=\"))\n",
    "        pr.product(x,y)\n",
    "    if(ch==3):\n",
    "        print(\"\\nexiting...\\n\")"
   ]
  },
  {
   "cell_type": "code",
   "execution_count": null,
   "metadata": {
    "collapsed": true
   },
   "outputs": [],
   "source": []
  }
 ],
 "metadata": {
  "kernelspec": {
   "display_name": "Python 3",
   "language": "python",
   "name": "python3"
  },
  "language_info": {
   "codemirror_mode": {
    "name": "ipython",
    "version": 3
   },
   "file_extension": ".py",
   "mimetype": "text/x-python",
   "name": "python",
   "nbconvert_exporter": "python",
   "pygments_lexer": "ipython3",
   "version": "3.6.3"
  }
 },
 "nbformat": 4,
 "nbformat_minor": 2
}
